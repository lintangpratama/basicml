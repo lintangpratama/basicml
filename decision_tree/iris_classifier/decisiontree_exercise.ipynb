{
  "nbformat": 4,
  "nbformat_minor": 0,
  "metadata": {
    "colab": {
      "name": "decisiontree_exercise.ipynb",
      "provenance": [],
      "collapsed_sections": []
    },
    "kernelspec": {
      "name": "python3",
      "display_name": "Python 3"
    },
    "language_info": {
      "name": "python"
    }
  },
  "cells": [
    {
      "cell_type": "code",
      "metadata": {
        "id": "1kOCV2OobeMn"
      },
      "source": [
        "import pandas as pd\n",
        " \n",
        "# Membaca file iris.csv\n",
        "iris = pd.read_csv('Iris.csv')"
      ],
      "execution_count": 35,
      "outputs": []
    },
    {
      "cell_type": "code",
      "metadata": {
        "colab": {
          "base_uri": "https://localhost:8080/",
          "height": 204
        },
        "id": "WFerQEPGgGa6",
        "outputId": "0b5061f5-c788-4990-a64b-8edae24ea0ef"
      },
      "source": [
        "# Iris dataframe\n",
        "iris.head()"
      ],
      "execution_count": 29,
      "outputs": [
        {
          "output_type": "execute_result",
          "data": {
            "text/html": [
              "<div>\n",
              "<style scoped>\n",
              "    .dataframe tbody tr th:only-of-type {\n",
              "        vertical-align: middle;\n",
              "    }\n",
              "\n",
              "    .dataframe tbody tr th {\n",
              "        vertical-align: top;\n",
              "    }\n",
              "\n",
              "    .dataframe thead th {\n",
              "        text-align: right;\n",
              "    }\n",
              "</style>\n",
              "<table border=\"1\" class=\"dataframe\">\n",
              "  <thead>\n",
              "    <tr style=\"text-align: right;\">\n",
              "      <th></th>\n",
              "      <th>Id</th>\n",
              "      <th>SepalLengthCm</th>\n",
              "      <th>SepalWidthCm</th>\n",
              "      <th>PetalLengthCm</th>\n",
              "      <th>PetalWidthCm</th>\n",
              "      <th>Species</th>\n",
              "    </tr>\n",
              "  </thead>\n",
              "  <tbody>\n",
              "    <tr>\n",
              "      <th>0</th>\n",
              "      <td>1</td>\n",
              "      <td>5.1</td>\n",
              "      <td>3.5</td>\n",
              "      <td>1.4</td>\n",
              "      <td>0.2</td>\n",
              "      <td>Iris-setosa</td>\n",
              "    </tr>\n",
              "    <tr>\n",
              "      <th>1</th>\n",
              "      <td>2</td>\n",
              "      <td>4.9</td>\n",
              "      <td>3.0</td>\n",
              "      <td>1.4</td>\n",
              "      <td>0.2</td>\n",
              "      <td>Iris-setosa</td>\n",
              "    </tr>\n",
              "    <tr>\n",
              "      <th>2</th>\n",
              "      <td>3</td>\n",
              "      <td>4.7</td>\n",
              "      <td>3.2</td>\n",
              "      <td>1.3</td>\n",
              "      <td>0.2</td>\n",
              "      <td>Iris-setosa</td>\n",
              "    </tr>\n",
              "    <tr>\n",
              "      <th>3</th>\n",
              "      <td>4</td>\n",
              "      <td>4.6</td>\n",
              "      <td>3.1</td>\n",
              "      <td>1.5</td>\n",
              "      <td>0.2</td>\n",
              "      <td>Iris-setosa</td>\n",
              "    </tr>\n",
              "    <tr>\n",
              "      <th>4</th>\n",
              "      <td>5</td>\n",
              "      <td>5.0</td>\n",
              "      <td>3.6</td>\n",
              "      <td>1.4</td>\n",
              "      <td>0.2</td>\n",
              "      <td>Iris-setosa</td>\n",
              "    </tr>\n",
              "  </tbody>\n",
              "</table>\n",
              "</div>"
            ],
            "text/plain": [
              "   Id  SepalLengthCm  SepalWidthCm  PetalLengthCm  PetalWidthCm      Species\n",
              "0   1            5.1           3.5            1.4           0.2  Iris-setosa\n",
              "1   2            4.9           3.0            1.4           0.2  Iris-setosa\n",
              "2   3            4.7           3.2            1.3           0.2  Iris-setosa\n",
              "3   4            4.6           3.1            1.5           0.2  Iris-setosa\n",
              "4   5            5.0           3.6            1.4           0.2  Iris-setosa"
            ]
          },
          "metadata": {
            "tags": []
          },
          "execution_count": 29
        }
      ]
    },
    {
      "cell_type": "code",
      "metadata": {
        "colab": {
          "base_uri": "https://localhost:8080/"
        },
        "id": "LALZ9vWRr5Q3",
        "outputId": "e431723a-84d9-4a20-c15c-4b299c9f26c3"
      },
      "source": [
        "print(iris)"
      ],
      "execution_count": 39,
      "outputs": [
        {
          "output_type": "stream",
          "text": [
            "     SepalLengthCm  SepalWidthCm  PetalLengthCm  PetalWidthCm         Species\n",
            "0              5.1           3.5            1.4           0.2     Iris-setosa\n",
            "1              4.9           3.0            1.4           0.2     Iris-setosa\n",
            "2              4.7           3.2            1.3           0.2     Iris-setosa\n",
            "3              4.6           3.1            1.5           0.2     Iris-setosa\n",
            "4              5.0           3.6            1.4           0.2     Iris-setosa\n",
            "..             ...           ...            ...           ...             ...\n",
            "145            6.7           3.0            5.2           2.3  Iris-virginica\n",
            "146            6.3           2.5            5.0           1.9  Iris-virginica\n",
            "147            6.5           3.0            5.2           2.0  Iris-virginica\n",
            "148            6.2           3.4            5.4           2.3  Iris-virginica\n",
            "149            5.9           3.0            5.1           1.8  Iris-virginica\n",
            "\n",
            "[150 rows x 5 columns]\n"
          ],
          "name": "stdout"
        }
      ]
    },
    {
      "cell_type": "code",
      "metadata": {
        "id": "DJHgJTF8gLwy"
      },
      "source": [
        "# Remove id rows (not use)\n",
        "iris.drop(labels='Id', axis=1, inplace=True)"
      ],
      "execution_count": 36,
      "outputs": []
    },
    {
      "cell_type": "code",
      "metadata": {
        "id": "kaVZoKnmva2R"
      },
      "source": [
        "# separate the attributes (X) and the label (y)\n",
        "X = iris[['SepalLengthCm', 'SepalWidthCm', 'PetalLengthCm', 'PetalWidthCm']]\n",
        "y = iris['Species']"
      ],
      "execution_count": 43,
      "outputs": []
    },
    {
      "cell_type": "code",
      "metadata": {
        "colab": {
          "base_uri": "https://localhost:8080/"
        },
        "id": "TiGHQhCGwsKK",
        "outputId": "e5fc507b-f729-4880-cd46-cdd8435df723"
      },
      "source": [
        "from sklearn.tree import DecisionTreeClassifier\n",
        "\n",
        "# Make the Decision Tree model\n",
        "tree_model = DecisionTreeClassifier()\n",
        "\n",
        "# Data training\n",
        "tree_model.fit(X, y)"
      ],
      "execution_count": 44,
      "outputs": [
        {
          "output_type": "execute_result",
          "data": {
            "text/plain": [
              "DecisionTreeClassifier(ccp_alpha=0.0, class_weight=None, criterion='gini',\n",
              "                       max_depth=None, max_features=None, max_leaf_nodes=None,\n",
              "                       min_impurity_decrease=0.0, min_impurity_split=None,\n",
              "                       min_samples_leaf=1, min_samples_split=2,\n",
              "                       min_weight_fraction_leaf=0.0, presort='deprecated',\n",
              "                       random_state=None, splitter='best')"
            ]
          },
          "metadata": {
            "tags": []
          },
          "execution_count": 44
        }
      ]
    },
    {
      "cell_type": "code",
      "metadata": {
        "colab": {
          "base_uri": "https://localhost:8080/"
        },
        "id": "gQAFqEdxxcQR",
        "outputId": "c55cc837-5e3d-460b-a754-907c21a6275b"
      },
      "source": [
        "# Test to predict classifier with the model, input this data [[SepalLength, SepalWidth, PetalLength, PetalWidth]]\n",
        "tree_model.predict([[6.2, 3.4, 5.4, 2.3]])"
      ],
      "execution_count": 45,
      "outputs": [
        {
          "output_type": "execute_result",
          "data": {
            "text/plain": [
              "array(['Iris-virginica'], dtype=object)"
            ]
          },
          "metadata": {
            "tags": []
          },
          "execution_count": 45
        }
      ]
    },
    {
      "cell_type": "code",
      "metadata": {
        "id": "q_bpxaw-yzCq"
      },
      "source": [
        "# Visualization using graphviz\n",
        "from sklearn.tree import export_graphviz\n",
        "\n",
        "# Made an .dot format file\n",
        "export_graphviz(tree_model,\n",
        "                out_file = 'iris_tree.dot',\n",
        "                feature_names = ['SepalLengthCm', 'SepalWidthCm', 'PetalLengthCm', 'PetalLengthCm'],\n",
        "                class_names = ['Iris-setosa', 'Iris-versicolor', 'Iris-virginica'],\n",
        "                rounded = True,\n",
        "                filled = True)\n",
        "\n",
        "# Then convert the .dot file into png to see model visualization with this web: https://onlineconvertfree.com/converter/images/."
      ],
      "execution_count": 47,
      "outputs": []
    }
  ]
}