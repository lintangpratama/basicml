{
  "nbformat": 4,
  "nbformat_minor": 0,
  "metadata": {
    "colab": {
      "name": "principal_component_analysis_PCA.ipynb",
      "provenance": []
    },
    "kernelspec": {
      "name": "python3",
      "display_name": "Python 3"
    },
    "language_info": {
      "name": "python"
    }
  },
  "cells": [
    {
      "cell_type": "code",
      "metadata": {
        "id": "GnojKbCvsXp2"
      },
      "source": [
        "from sklearn.datasets import load_iris\n",
        "\n",
        "# import iris dataset\n",
        "df = load_iris()\n",
        "# separate attributes and label\n",
        "X = df['data']\n",
        "y = df['target']"
      ],
      "execution_count": 3,
      "outputs": []
    },
    {
      "cell_type": "code",
      "metadata": {
        "id": "TfGdBHaKvegA"
      },
      "source": [
        "from sklearn.model_selection import train_test_split\n",
        "\n",
        "# separate the dataset to train set and test set \n",
        "X_train, X_test, y_train, y_test = train_test_split(X, y, test_size=0.2, random_state=1)"
      ],
      "execution_count": 8,
      "outputs": []
    },
    {
      "cell_type": "code",
      "metadata": {
        "colab": {
          "base_uri": "https://localhost:8080/"
        },
        "id": "_zd5vR5Bv5vG",
        "outputId": "0f9c64c8-0d91-4141-a284-0548ff426772"
      },
      "source": [
        "from sklearn.tree import DecisionTreeClassifier\n",
        "\n",
        "# make model without using PCA with all attributes\n",
        "tree = DecisionTreeClassifier()\n",
        "\n",
        "# train and check the model score\n",
        "noPCA = tree.fit(X_train, y_train)\n",
        "noPCA.score(X_test, y_test)"
      ],
      "execution_count": 9,
      "outputs": [
        {
          "output_type": "execute_result",
          "data": {
            "text/plain": [
              "0.9666666666666667"
            ]
          },
          "metadata": {
            "tags": []
          },
          "execution_count": 9
        }
      ]
    },
    {
      "cell_type": "code",
      "metadata": {
        "colab": {
          "base_uri": "https://localhost:8080/"
        },
        "id": "8FJ4w3AawzCD",
        "outputId": "c2051877-0329-438b-c72a-2b09b7ce9ef7"
      },
      "source": [
        "from sklearn.decomposition import PCA\n",
        "\n",
        "# find the best variance by using PCA (Principal Component Analysis)\n",
        "pca = PCA(n_components=4)\n",
        "\n",
        "# applicate PCA to dataset\n",
        "pca_attributes = pca.fit_transform(X_train)\n",
        "\n",
        "# chack variance score from each attributes\n",
        "pca.explained_variance_ratio_"
      ],
      "execution_count": 13,
      "outputs": [
        {
          "output_type": "execute_result",
          "data": {
            "text/plain": [
              "array([0.92848323, 0.04764372, 0.01931005, 0.004563  ])"
            ]
          },
          "metadata": {
            "tags": []
          },
          "execution_count": 13
        }
      ]
    },
    {
      "cell_type": "code",
      "metadata": {
        "id": "Qc5Vqhyny6xY"
      },
      "source": [
        "from sklearn.decomposition import PCA\n",
        "\n",
        "# make the dataset into the one best variance\n",
        "pca = PCA(n_components=1)\n",
        "\n",
        "# fit pca to X_train\n",
        "pca_X_train = pca.fit_transform(X_train)\n",
        "\n",
        "# fit PCA to X_test\n",
        "pca_X_test = pca.fit_transform(X_test)"
      ],
      "execution_count": 15,
      "outputs": []
    },
    {
      "cell_type": "code",
      "metadata": {
        "colab": {
          "base_uri": "https://localhost:8080/"
        },
        "id": "Qjm0B4a_zt8i",
        "outputId": "33c4dfe8-b5df-4f86-987c-87a241b0633e"
      },
      "source": [
        "from sklearn.tree import DecisionTreeClassifier\n",
        "\n",
        "model = DecisionTreeClassifier()\n",
        "\n",
        "# train the pca attribute\n",
        "pca_model = model.fit(pca_X_train, y_train)\n",
        "\n",
        "# check the score\n",
        "pca_model.score(pca_X_test, y_test)"
      ],
      "execution_count": 17,
      "outputs": [
        {
          "output_type": "execute_result",
          "data": {
            "text/plain": [
              "0.8"
            ]
          },
          "metadata": {
            "tags": []
          },
          "execution_count": 17
        }
      ]
    }
  ]
}